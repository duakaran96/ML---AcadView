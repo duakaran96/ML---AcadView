{
  "nbformat": 4,
  "nbformat_minor": 0,
  "metadata": {
    "colab": {
      "name": "Deep Learning.ipynb",
      "version": "0.3.2",
      "provenance": [],
      "include_colab_link": true
    },
    "kernelspec": {
      "name": "python3",
      "display_name": "Python 3"
    }
  },
  "cells": [
    {
      "cell_type": "markdown",
      "metadata": {
        "id": "view-in-github",
        "colab_type": "text"
      },
      "source": [
        "[View in Colaboratory](https://colab.research.google.com/github/duakaran96/ML-AcadView/blob/master/Deep_Learning.ipynb)"
      ]
    },
    {
      "metadata": {
        "id": "Ddra_4VgsiEf",
        "colab_type": "text"
      },
      "cell_type": "markdown",
      "source": [
        "# Question 1"
      ]
    },
    {
      "metadata": {
        "id": "-zis2JhqhKQT",
        "colab_type": "code",
        "colab": {
          "base_uri": "https://localhost:8080/",
          "height": 36
        },
        "outputId": "44b6a60f-b6f5-4d8d-93c0-4e1f25bf4fc0"
      },
      "cell_type": "code",
      "source": [
        "'''\n",
        "a, b, and c are inputs\n",
        "u = a * b\n",
        "v = a * c\n",
        "w = b + c\n",
        "F = u + v - w\n",
        "\n",
        "F = ab + ac - (b + c)\n",
        "F = a(b+c) -(b+c)\n",
        "F = (a-1)(b+c)\n",
        "'''\n",
        "print('F = (a-1)(b+c)')"
      ],
      "execution_count": 1,
      "outputs": [
        {
          "output_type": "stream",
          "text": [
            "F = (a-1)(b+c)\n"
          ],
          "name": "stdout"
        }
      ]
    },
    {
      "metadata": {
        "id": "x_XdYT9iv34M",
        "colab_type": "text"
      },
      "cell_type": "markdown",
      "source": [
        "# Question 2\n"
      ]
    },
    {
      "metadata": {
        "id": "BR5O38bHiEVw",
        "colab_type": "code",
        "colab": {}
      },
      "cell_type": "code",
      "source": [
        "x1 = -0.06\n",
        "x2 = -2.5\n",
        "x3 = 1.4"
      ],
      "execution_count": 0,
      "outputs": []
    },
    {
      "metadata": {
        "id": "X5-CjstakK7F",
        "colab_type": "code",
        "colab": {}
      },
      "cell_type": "code",
      "source": [
        "w1 = 2.7\n",
        "w2 = -8.6\n",
        "w3 = 0.002"
      ],
      "execution_count": 0,
      "outputs": []
    },
    {
      "metadata": {
        "id": "aeOBjg56kU6M",
        "colab_type": "code",
        "colab": {}
      },
      "cell_type": "code",
      "source": [
        "X = (w1*x1) + (w2*x2) +(w3*x3)"
      ],
      "execution_count": 0,
      "outputs": []
    },
    {
      "metadata": {
        "id": "dFCdyFHGnYIl",
        "colab_type": "code",
        "colab": {}
      },
      "cell_type": "code",
      "source": [
        "import math"
      ],
      "execution_count": 0,
      "outputs": []
    },
    {
      "metadata": {
        "id": "z0BXrHd-ng3k",
        "colab_type": "code",
        "colab": {}
      },
      "cell_type": "code",
      "source": [
        "f_X = 1 / (1 + math.exp(-X))"
      ],
      "execution_count": 0,
      "outputs": []
    },
    {
      "metadata": {
        "id": "_V9eXTJ6nq43",
        "colab_type": "code",
        "colab": {
          "base_uri": "https://localhost:8080/",
          "height": 36
        },
        "outputId": "095540d7-a58d-41b4-c4c5-5d7a5741855a"
      },
      "cell_type": "code",
      "source": [
        "print(f_X)"
      ],
      "execution_count": 7,
      "outputs": [
        {
          "output_type": "stream",
          "text": [
            "0.9999999994607274\n"
          ],
          "name": "stdout"
        }
      ]
    },
    {
      "metadata": {
        "id": "HojETiQVnsnw",
        "colab_type": "code",
        "colab": {}
      },
      "cell_type": "code",
      "source": [
        "bias = -1.1"
      ],
      "execution_count": 0,
      "outputs": []
    },
    {
      "metadata": {
        "id": "PL6GMOxjn0Qf",
        "colab_type": "code",
        "colab": {}
      },
      "cell_type": "code",
      "source": [
        "newX = X + bias"
      ],
      "execution_count": 0,
      "outputs": []
    },
    {
      "metadata": {
        "id": "--qjXK6on_lD",
        "colab_type": "code",
        "colab": {}
      },
      "cell_type": "code",
      "source": [
        "newf_X = 1 / (1 + math.exp(-newX))"
      ],
      "execution_count": 0,
      "outputs": []
    },
    {
      "metadata": {
        "id": "UB-fGStboLEc",
        "colab_type": "code",
        "colab": {
          "base_uri": "https://localhost:8080/",
          "height": 36
        },
        "outputId": "c15722d8-f52e-4521-ffa0-a80990644765"
      },
      "cell_type": "code",
      "source": [
        "print(newf_X)"
      ],
      "execution_count": 11,
      "outputs": [
        {
          "output_type": "stream",
          "text": [
            "0.9999999983799357\n"
          ],
          "name": "stdout"
        }
      ]
    },
    {
      "metadata": {
        "id": "vVnzlOK3vDI_",
        "colab_type": "text"
      },
      "cell_type": "markdown",
      "source": [
        "As we can see here bias does not affect much as it is just -1.1"
      ]
    },
    {
      "metadata": {
        "id": "ZPfCSEEDtXnf",
        "colab_type": "text"
      },
      "cell_type": "markdown",
      "source": [
        "## Bias \n",
        "It can be considered as negative threshold. A bias can be thought of as ease to get the output 1 from activation function. Bigger the bias value, easier it is to get 1 output, but if the bias is very negative it's very difficult."
      ]
    }
  ]
}